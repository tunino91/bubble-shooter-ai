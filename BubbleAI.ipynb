{
 "cells": [
  {
   "cell_type": "markdown",
   "metadata": {},
   "source": [
    "# 1. Install and Import Dependencies"
   ]
  },
  {
   "cell_type": "code",
   "execution_count": 9,
   "metadata": {
    "tags": []
   },
   "outputs": [
    {
     "name": "stdout",
     "output_type": "stream",
     "text": [
      "Requirement already satisfied: torch in /usr/local/lib/python3.11/site-packages (2.1.2)\n",
      "Requirement already satisfied: torchvision in /usr/local/lib/python3.11/site-packages (0.16.2)\n",
      "Requirement already satisfied: torchaudio in /usr/local/lib/python3.11/site-packages (2.1.2)\n",
      "Requirement already satisfied: filelock in /usr/local/lib/python3.11/site-packages (from torch) (3.13.1)\n",
      "Requirement already satisfied: typing-extensions in /usr/local/lib/python3.11/site-packages (from torch) (4.9.0)\n",
      "Requirement already satisfied: sympy in /usr/local/lib/python3.11/site-packages (from torch) (1.12)\n",
      "Requirement already satisfied: networkx in /usr/local/lib/python3.11/site-packages (from torch) (3.2.1)\n",
      "Requirement already satisfied: jinja2 in /usr/local/lib/python3.11/site-packages (from torch) (3.1.2)\n",
      "Requirement already satisfied: fsspec in /usr/local/lib/python3.11/site-packages (from torch) (2023.12.2)\n",
      "Requirement already satisfied: numpy in /usr/local/lib/python3.11/site-packages (from torchvision) (1.26.3)\n",
      "Requirement already satisfied: requests in /usr/local/lib/python3.11/site-packages (from torchvision) (2.31.0)\n",
      "Requirement already satisfied: pillow!=8.3.*,>=5.3.0 in /usr/local/lib/python3.11/site-packages (from torchvision) (10.2.0)\n",
      "Requirement already satisfied: MarkupSafe>=2.0 in /usr/local/lib/python3.11/site-packages (from jinja2->torch) (2.1.3)\n",
      "Requirement already satisfied: charset-normalizer<4,>=2 in /usr/local/lib/python3.11/site-packages (from requests->torchvision) (3.3.2)\n",
      "Requirement already satisfied: idna<4,>=2.5 in /usr/local/lib/python3.11/site-packages (from requests->torchvision) (3.6)\n",
      "Requirement already satisfied: urllib3<3,>=1.21.1 in /usr/local/lib/python3.11/site-packages (from requests->torchvision) (2.1.0)\n",
      "Requirement already satisfied: certifi>=2017.4.17 in /usr/local/lib/python3.11/site-packages (from requests->torchvision) (2023.11.17)\n",
      "Requirement already satisfied: mpmath>=0.19 in /usr/local/lib/python3.11/site-packages (from sympy->torch) (1.3.0)\n",
      "\n",
      "\u001b[1m[\u001b[0m\u001b[34;49mnotice\u001b[0m\u001b[1;39;49m]\u001b[0m\u001b[39;49m A new release of pip is available: \u001b[0m\u001b[31;49m23.3.1\u001b[0m\u001b[39;49m -> \u001b[0m\u001b[32;49m23.3.2\u001b[0m\n",
      "\u001b[1m[\u001b[0m\u001b[34;49mnotice\u001b[0m\u001b[1;39;49m]\u001b[0m\u001b[39;49m To update, run: \u001b[0m\u001b[32;49mpython3.11 -m pip install --upgrade pip\u001b[0m\n"
     ]
    }
   ],
   "source": [
    "!pip3 install torch torchvision torchaudio"
   ]
  },
  {
   "cell_type": "code",
   "execution_count": 10,
   "metadata": {
    "tags": []
   },
   "outputs": [
    {
     "name": "stdout",
     "output_type": "stream",
     "text": [
      "Requirement already satisfied: protobuf==3.20.* in /usr/local/lib/python3.11/site-packages (3.20.3)\n",
      "Requirement already satisfied: stable-baselines3[extra] in /usr/local/lib/python3.11/site-packages (2.2.1)\n",
      "Requirement already satisfied: gymnasium<0.30,>=0.28.1 in /usr/local/lib/python3.11/site-packages (from stable-baselines3[extra]) (0.29.1)\n",
      "Requirement already satisfied: numpy>=1.20 in /usr/local/lib/python3.11/site-packages (from stable-baselines3[extra]) (1.26.3)\n",
      "Requirement already satisfied: torch>=1.13 in /usr/local/lib/python3.11/site-packages (from stable-baselines3[extra]) (2.1.2)\n",
      "Requirement already satisfied: cloudpickle in /usr/local/lib/python3.11/site-packages (from stable-baselines3[extra]) (3.0.0)\n",
      "Requirement already satisfied: pandas in /usr/local/lib/python3.11/site-packages (from stable-baselines3[extra]) (2.1.4)\n",
      "Requirement already satisfied: matplotlib in /usr/local/lib/python3.11/site-packages (from stable-baselines3[extra]) (3.8.2)\n",
      "Requirement already satisfied: opencv-python in /usr/local/lib/python3.11/site-packages (from stable-baselines3[extra]) (4.9.0.80)\n",
      "Requirement already satisfied: pygame in /usr/local/lib/python3.11/site-packages (from stable-baselines3[extra]) (2.5.2)\n",
      "Requirement already satisfied: tensorboard>=2.9.1 in /usr/local/lib/python3.11/site-packages (from stable-baselines3[extra]) (2.15.1)\n",
      "Requirement already satisfied: psutil in /usr/local/lib/python3.11/site-packages (from stable-baselines3[extra]) (5.9.7)\n",
      "Requirement already satisfied: tqdm in /usr/local/lib/python3.11/site-packages (from stable-baselines3[extra]) (4.66.1)\n",
      "Requirement already satisfied: rich in /usr/local/lib/python3.11/site-packages (from stable-baselines3[extra]) (13.7.0)\n",
      "Requirement already satisfied: shimmy~=1.3.0 in /usr/local/lib/python3.11/site-packages (from shimmy[atari]~=1.3.0; extra == \"extra\"->stable-baselines3[extra]) (1.3.0)\n",
      "Requirement already satisfied: pillow in /usr/local/lib/python3.11/site-packages (from stable-baselines3[extra]) (10.2.0)\n",
      "Requirement already satisfied: autorom~=0.6.1 in /usr/local/lib/python3.11/site-packages (from autorom[accept-rom-license]~=0.6.1; extra == \"extra\"->stable-baselines3[extra]) (0.6.1)\n",
      "Requirement already satisfied: click in /usr/local/lib/python3.11/site-packages (from autorom~=0.6.1->autorom[accept-rom-license]~=0.6.1; extra == \"extra\"->stable-baselines3[extra]) (8.1.7)\n",
      "Requirement already satisfied: requests in /usr/local/lib/python3.11/site-packages (from autorom~=0.6.1->autorom[accept-rom-license]~=0.6.1; extra == \"extra\"->stable-baselines3[extra]) (2.31.0)\n",
      "Requirement already satisfied: AutoROM.accept-rom-license in /usr/local/lib/python3.11/site-packages (from autorom[accept-rom-license]~=0.6.1; extra == \"extra\"->stable-baselines3[extra]) (0.6.1)\n",
      "Requirement already satisfied: typing-extensions>=4.3.0 in /usr/local/lib/python3.11/site-packages (from gymnasium<0.30,>=0.28.1->stable-baselines3[extra]) (4.9.0)\n",
      "Requirement already satisfied: farama-notifications>=0.0.1 in /usr/local/lib/python3.11/site-packages (from gymnasium<0.30,>=0.28.1->stable-baselines3[extra]) (0.0.4)\n",
      "Requirement already satisfied: ale-py~=0.8.1 in /usr/local/lib/python3.11/site-packages (from shimmy[atari]~=1.3.0; extra == \"extra\"->stable-baselines3[extra]) (0.8.1)\n",
      "Requirement already satisfied: absl-py>=0.4 in /usr/local/lib/python3.11/site-packages (from tensorboard>=2.9.1->stable-baselines3[extra]) (2.0.0)\n",
      "Requirement already satisfied: grpcio>=1.48.2 in /usr/local/lib/python3.11/site-packages (from tensorboard>=2.9.1->stable-baselines3[extra]) (1.60.0)\n",
      "Requirement already satisfied: google-auth<3,>=1.6.3 in /usr/local/lib/python3.11/site-packages (from tensorboard>=2.9.1->stable-baselines3[extra]) (2.26.1)\n",
      "Requirement already satisfied: google-auth-oauthlib<2,>=0.5 in /usr/local/lib/python3.11/site-packages (from tensorboard>=2.9.1->stable-baselines3[extra]) (1.2.0)\n",
      "Requirement already satisfied: markdown>=2.6.8 in /usr/local/lib/python3.11/site-packages (from tensorboard>=2.9.1->stable-baselines3[extra]) (3.5.1)\n",
      "Requirement already satisfied: setuptools>=41.0.0 in /usr/local/lib/python3.11/site-packages (from tensorboard>=2.9.1->stable-baselines3[extra]) (68.2.2)\n",
      "Requirement already satisfied: six>1.9 in /usr/local/lib/python3.11/site-packages (from tensorboard>=2.9.1->stable-baselines3[extra]) (1.16.0)\n",
      "Requirement already satisfied: tensorboard-data-server<0.8.0,>=0.7.0 in /usr/local/lib/python3.11/site-packages (from tensorboard>=2.9.1->stable-baselines3[extra]) (0.7.2)\n",
      "Requirement already satisfied: werkzeug>=1.0.1 in /usr/local/lib/python3.11/site-packages (from tensorboard>=2.9.1->stable-baselines3[extra]) (3.0.1)\n",
      "Requirement already satisfied: filelock in /usr/local/lib/python3.11/site-packages (from torch>=1.13->stable-baselines3[extra]) (3.13.1)\n",
      "Requirement already satisfied: sympy in /usr/local/lib/python3.11/site-packages (from torch>=1.13->stable-baselines3[extra]) (1.12)\n",
      "Requirement already satisfied: networkx in /usr/local/lib/python3.11/site-packages (from torch>=1.13->stable-baselines3[extra]) (3.2.1)\n",
      "Requirement already satisfied: jinja2 in /usr/local/lib/python3.11/site-packages (from torch>=1.13->stable-baselines3[extra]) (3.1.2)\n",
      "Requirement already satisfied: fsspec in /usr/local/lib/python3.11/site-packages (from torch>=1.13->stable-baselines3[extra]) (2023.12.2)\n",
      "Requirement already satisfied: contourpy>=1.0.1 in /usr/local/lib/python3.11/site-packages (from matplotlib->stable-baselines3[extra]) (1.2.0)\n",
      "Requirement already satisfied: cycler>=0.10 in /usr/local/lib/python3.11/site-packages (from matplotlib->stable-baselines3[extra]) (0.12.1)\n",
      "Requirement already satisfied: fonttools>=4.22.0 in /usr/local/lib/python3.11/site-packages (from matplotlib->stable-baselines3[extra]) (4.47.0)\n",
      "Requirement already satisfied: kiwisolver>=1.3.1 in /usr/local/lib/python3.11/site-packages (from matplotlib->stable-baselines3[extra]) (1.4.5)\n",
      "Requirement already satisfied: packaging>=20.0 in /usr/local/lib/python3.11/site-packages (from matplotlib->stable-baselines3[extra]) (23.2)\n",
      "Requirement already satisfied: pyparsing>=2.3.1 in /usr/local/lib/python3.11/site-packages (from matplotlib->stable-baselines3[extra]) (3.1.1)\n",
      "Requirement already satisfied: python-dateutil>=2.7 in /usr/local/lib/python3.11/site-packages (from matplotlib->stable-baselines3[extra]) (2.8.2)\n",
      "Requirement already satisfied: pytz>=2020.1 in /usr/local/lib/python3.11/site-packages (from pandas->stable-baselines3[extra]) (2023.3.post1)\n",
      "Requirement already satisfied: tzdata>=2022.1 in /usr/local/lib/python3.11/site-packages (from pandas->stable-baselines3[extra]) (2023.4)\n",
      "Requirement already satisfied: markdown-it-py>=2.2.0 in /usr/local/lib/python3.11/site-packages (from rich->stable-baselines3[extra]) (3.0.0)\n",
      "Requirement already satisfied: pygments<3.0.0,>=2.13.0 in /usr/local/lib/python3.11/site-packages (from rich->stable-baselines3[extra]) (2.17.2)\n",
      "Requirement already satisfied: importlib-resources in /usr/local/lib/python3.11/site-packages (from ale-py~=0.8.1->shimmy[atari]~=1.3.0; extra == \"extra\"->stable-baselines3[extra]) (6.1.1)\n",
      "Requirement already satisfied: cachetools<6.0,>=2.0.0 in /usr/local/lib/python3.11/site-packages (from google-auth<3,>=1.6.3->tensorboard>=2.9.1->stable-baselines3[extra]) (5.3.2)\n",
      "Requirement already satisfied: pyasn1-modules>=0.2.1 in /usr/local/lib/python3.11/site-packages (from google-auth<3,>=1.6.3->tensorboard>=2.9.1->stable-baselines3[extra]) (0.3.0)\n",
      "Requirement already satisfied: rsa<5,>=3.1.4 in /usr/local/lib/python3.11/site-packages (from google-auth<3,>=1.6.3->tensorboard>=2.9.1->stable-baselines3[extra]) (4.9)\n",
      "Requirement already satisfied: requests-oauthlib>=0.7.0 in /usr/local/lib/python3.11/site-packages (from google-auth-oauthlib<2,>=0.5->tensorboard>=2.9.1->stable-baselines3[extra]) (1.3.1)\n",
      "Requirement already satisfied: mdurl~=0.1 in /usr/local/lib/python3.11/site-packages (from markdown-it-py>=2.2.0->rich->stable-baselines3[extra]) (0.1.2)\n",
      "Requirement already satisfied: charset-normalizer<4,>=2 in /usr/local/lib/python3.11/site-packages (from requests->autorom~=0.6.1->autorom[accept-rom-license]~=0.6.1; extra == \"extra\"->stable-baselines3[extra]) (3.3.2)\n",
      "Requirement already satisfied: idna<4,>=2.5 in /usr/local/lib/python3.11/site-packages (from requests->autorom~=0.6.1->autorom[accept-rom-license]~=0.6.1; extra == \"extra\"->stable-baselines3[extra]) (3.6)\n",
      "Requirement already satisfied: urllib3<3,>=1.21.1 in /usr/local/lib/python3.11/site-packages (from requests->autorom~=0.6.1->autorom[accept-rom-license]~=0.6.1; extra == \"extra\"->stable-baselines3[extra]) (2.1.0)\n",
      "Requirement already satisfied: certifi>=2017.4.17 in /usr/local/lib/python3.11/site-packages (from requests->autorom~=0.6.1->autorom[accept-rom-license]~=0.6.1; extra == \"extra\"->stable-baselines3[extra]) (2023.11.17)\n",
      "Requirement already satisfied: MarkupSafe>=2.1.1 in /usr/local/lib/python3.11/site-packages (from werkzeug>=1.0.1->tensorboard>=2.9.1->stable-baselines3[extra]) (2.1.3)\n",
      "Requirement already satisfied: mpmath>=0.19 in /usr/local/lib/python3.11/site-packages (from sympy->torch>=1.13->stable-baselines3[extra]) (1.3.0)\n",
      "Requirement already satisfied: pyasn1<0.6.0,>=0.4.6 in /usr/local/lib/python3.11/site-packages (from pyasn1-modules>=0.2.1->google-auth<3,>=1.6.3->tensorboard>=2.9.1->stable-baselines3[extra]) (0.5.1)\n",
      "Requirement already satisfied: oauthlib>=3.0.0 in /usr/local/lib/python3.11/site-packages (from requests-oauthlib>=0.7.0->google-auth-oauthlib<2,>=0.5->tensorboard>=2.9.1->stable-baselines3[extra]) (3.2.2)\n",
      "\n",
      "\u001b[1m[\u001b[0m\u001b[34;49mnotice\u001b[0m\u001b[1;39;49m]\u001b[0m\u001b[39;49m A new release of pip is available: \u001b[0m\u001b[31;49m23.3.1\u001b[0m\u001b[39;49m -> \u001b[0m\u001b[32;49m23.3.2\u001b[0m\n",
      "\u001b[1m[\u001b[0m\u001b[34;49mnotice\u001b[0m\u001b[1;39;49m]\u001b[0m\u001b[39;49m To update, run: \u001b[0m\u001b[32;49mpython3.11 -m pip install --upgrade pip\u001b[0m\n"
     ]
    }
   ],
   "source": [
    "!pip install 'stable-baselines3[extra]' 'protobuf==3.20.*'"
   ]
  },
  {
   "cell_type": "code",
   "execution_count": 11,
   "metadata": {
    "tags": []
   },
   "outputs": [
    {
     "name": "stdout",
     "output_type": "stream",
     "text": [
      "Requirement already satisfied: gym in /usr/local/lib/python3.11/site-packages (0.26.2)\n",
      "Requirement already satisfied: mss in /usr/local/lib/python3.11/site-packages (9.0.1)\n",
      "Requirement already satisfied: pyautogui in /usr/local/lib/python3.11/site-packages (0.9.54)\n",
      "Requirement already satisfied: pytesseract in /usr/local/lib/python3.11/site-packages (0.3.10)\n",
      "Requirement already satisfied: numpy>=1.18.0 in /usr/local/lib/python3.11/site-packages (from gym) (1.26.3)\n",
      "Requirement already satisfied: cloudpickle>=1.2.0 in /usr/local/lib/python3.11/site-packages (from gym) (3.0.0)\n",
      "Requirement already satisfied: gym-notices>=0.0.4 in /usr/local/lib/python3.11/site-packages (from gym) (0.0.8)\n",
      "Requirement already satisfied: pymsgbox in /usr/local/lib/python3.11/site-packages (from pyautogui) (1.0.9)\n",
      "Requirement already satisfied: pytweening>=1.0.4 in /usr/local/lib/python3.11/site-packages (from pyautogui) (1.0.7)\n",
      "Requirement already satisfied: pyscreeze>=0.1.21 in /usr/local/lib/python3.11/site-packages (from pyautogui) (0.1.30)\n",
      "Requirement already satisfied: pygetwindow>=0.0.5 in /usr/local/lib/python3.11/site-packages (from pyautogui) (0.0.9)\n",
      "Requirement already satisfied: mouseinfo in /usr/local/lib/python3.11/site-packages (from pyautogui) (0.1.3)\n",
      "Requirement already satisfied: pyobjc-core in /usr/local/lib/python3.11/site-packages (from pyautogui) (10.1)\n",
      "Requirement already satisfied: pyobjc-framework-quartz in /usr/local/lib/python3.11/site-packages (from pyautogui) (10.1)\n",
      "Requirement already satisfied: packaging>=21.3 in /usr/local/lib/python3.11/site-packages (from pytesseract) (23.2)\n",
      "Requirement already satisfied: Pillow>=8.0.0 in /usr/local/lib/python3.11/site-packages (from pytesseract) (10.2.0)\n",
      "Requirement already satisfied: pyrect in /usr/local/lib/python3.11/site-packages (from pygetwindow>=0.0.5->pyautogui) (0.2.0)\n",
      "Requirement already satisfied: pyperclip in /usr/local/lib/python3.11/site-packages (from mouseinfo->pyautogui) (1.8.2)\n",
      "Requirement already satisfied: rubicon-objc in /usr/local/lib/python3.11/site-packages (from mouseinfo->pyautogui) (0.4.7)\n",
      "Requirement already satisfied: pyobjc-framework-Cocoa>=10.1 in /usr/local/lib/python3.11/site-packages (from pyobjc-framework-quartz->pyautogui) (10.1)\n",
      "\n",
      "\u001b[1m[\u001b[0m\u001b[34;49mnotice\u001b[0m\u001b[1;39;49m]\u001b[0m\u001b[39;49m A new release of pip is available: \u001b[0m\u001b[31;49m23.3.1\u001b[0m\u001b[39;49m -> \u001b[0m\u001b[32;49m23.3.2\u001b[0m\n",
      "\u001b[1m[\u001b[0m\u001b[34;49mnotice\u001b[0m\u001b[1;39;49m]\u001b[0m\u001b[39;49m To update, run: \u001b[0m\u001b[32;49mpython3.11 -m pip install --upgrade pip\u001b[0m\n"
     ]
    }
   ],
   "source": [
    "!pip install gym mss pyautogui pytesseract"
   ]
  },
  {
   "cell_type": "code",
   "execution_count": 12,
   "metadata": {},
   "outputs": [
    {
     "name": "stdout",
     "output_type": "stream",
     "text": [
      "Requirement already satisfied: gymnasium in /usr/local/lib/python3.11/site-packages (0.29.1)\n",
      "Requirement already satisfied: numpy>=1.21.0 in /usr/local/lib/python3.11/site-packages (from gymnasium) (1.26.3)\n",
      "Requirement already satisfied: cloudpickle>=1.2.0 in /usr/local/lib/python3.11/site-packages (from gymnasium) (3.0.0)\n",
      "Requirement already satisfied: typing-extensions>=4.3.0 in /usr/local/lib/python3.11/site-packages (from gymnasium) (4.9.0)\n",
      "Requirement already satisfied: farama-notifications>=0.0.1 in /usr/local/lib/python3.11/site-packages (from gymnasium) (0.0.4)\n",
      "\n",
      "\u001b[1m[\u001b[0m\u001b[34;49mnotice\u001b[0m\u001b[1;39;49m]\u001b[0m\u001b[39;49m A new release of pip is available: \u001b[0m\u001b[31;49m23.3.1\u001b[0m\u001b[39;49m -> \u001b[0m\u001b[32;49m23.3.2\u001b[0m\n",
      "\u001b[1m[\u001b[0m\u001b[34;49mnotice\u001b[0m\u001b[1;39;49m]\u001b[0m\u001b[39;49m To update, run: \u001b[0m\u001b[32;49mpython3.11 -m pip install --upgrade pip\u001b[0m\n"
     ]
    }
   ],
   "source": [
    "!pip install gymnasium"
   ]
  },
  {
   "cell_type": "code",
   "execution_count": 13,
   "metadata": {},
   "outputs": [],
   "source": [
    "#chrome://dino/"
   ]
  },
  {
   "cell_type": "code",
   "execution_count": 14,
   "metadata": {},
   "outputs": [],
   "source": [
    "from mss import mss\n",
    "import pyautogui\n",
    "import cv2\n",
    "import numpy as np\n",
    "import pytesseract\n",
    "from matplotlib import pyplot as plt\n",
    "from time import sleep\n",
    "import gymnasium as gym\n",
    "from gymnasium import Env\n",
    "from gymnasium.spaces import Box, Discrete \n",
    "import re"
   ]
  },
  {
   "cell_type": "markdown",
   "metadata": {},
   "source": [
    "# 2. Build the Environment"
   ]
  },
  {
   "cell_type": "markdown",
   "metadata": {},
   "source": [
    "## 2.1 Create Environment"
   ]
  },
  {
   "cell_type": "code",
   "execution_count": 39,
   "metadata": {},
   "outputs": [],
   "source": [
    "class WebGame(Env):\n",
    "    ######## THIS SCREEN HOLDS ALL THE INFORMATION ########\n",
    "    ######### TO UNDERSTAND THE STATE OF THE GAME: ########\n",
    "    ### TIME_ELAPSED, REMAINING_BALLS_COUNT, SCORE ETC. ###\n",
    "    entire_screen = {'width': 670, 'height': 584}\n",
    "    #####################################################\n",
    "    \n",
    "    #### A CONCENTRATED AREA WHERE THERE ARE NO DISTRACTIONS ####\n",
    "    ###### LIKE SCORE, TIME_ELAPSED, REMAINING_BALLS_COUNT.######\n",
    "    ################## IT'S A PURE PLAYGROUND ###################\n",
    "    game_play_screen = {'height':584 ,'width':380}\n",
    "    #####################################################\n",
    "    \n",
    "    #### THIS IS THE LOCATION I USE TO UNDERSTAND ####\n",
    "    ########## IF THE GAME IS OVER OR NOT ############\n",
    "    ##### (I CHOSED IT TO BE \"NEW GAME\" button) ######\n",
    "    gameover_location = {}\n",
    "    #####################################################\n",
    "    \n",
    "    ###### THIS IS THE LOCATION I USE TO UNDERSTAND ######\n",
    "    ## ELAPSED TIME IN THE GAME REPRESENTED IN SECONDS. ##\n",
    "    time_location = {}\n",
    "    #####################################################\n",
    "    \n",
    "    ##### COORDINATES OF THE VIDEO GAME #####\n",
    "    ####### W/ RESPECT TO YOUR SCREEN #######\n",
    "    # 353: HORIZONTAL MIDDLE POSITION OF GAME SCREEN\n",
    "    # 690: RIGHT ABOVE THE BALL YOU ARE SHOOTING WITH TO COVER A GOOD SHOOTING ANGLE\n",
    "    shooting_coordinates = {'x':353 ,'y': 690}\n",
    "    start_new_game_coordinates = {'x':353, 'y':540}\n",
    "    #####################################################\n",
    "    \n",
    "    ############ SIZE OF THE STEP TAKEN FOR #############\n",
    "    ######## 'move_left' AND 'move_right' ACTIONS #######\n",
    "    steps = 5\n",
    "    #####################################################\n",
    "    \n",
    "    ####### I USE THESE BORDERS AS A WALL SO THAT #######\n",
    "    ## CURSOR TO CAN NOT GO BEYOND THE GAME PLAYGROUND ##\n",
    "    wall_borders = {'left':180, 'right':520}\n",
    "    #####################################################\n",
    "\n",
    "    ######################## SCREENSHOT LOCATIONS ############################\n",
    "    ############ Entire_screen includes: Score, game-area, timer, ############\n",
    "    ### remaining_ball_count, swap_button. The rest of the sections ##########\n",
    "    ### will be extracted from the Entire_screen with relative positions, ####\n",
    "    ################### to limit ss actions to 1 per step. ###################\n",
    "    entire_screen_location = {'top': 170, 'left': 20, 'width': entire_screen['width'], 'height': entire_screen['height']}    \n",
    "    ################### RELATIVE LOCATION TO entire_screen_location ##########\n",
    "    game_location = {'top':50 ,'left':290, 'width':800, 'height': 1200}\n",
    "    gameover_location = {'top':690 ,'left':480, 'width':350, 'height':100}\n",
    "    score_location = {'top':120 ,'left':10, 'width':220 , 'height': 50}\n",
    "    time_location = {'top':85 ,'left':1200, 'width':260 , 'height': 70}\n",
    "    remaining_balls_location = {'top':1050 ,'left':205, 'width':260 , 'height': 1000}\n",
    "    ###########################################################################\n",
    "    \n",
    "    def __init__(self):\n",
    "        super().__init__()\n",
    "        ## DEFINE OBSERVATION SPACE\n",
    "        self.observation_space = Box(low=0, high=255, shape=(1, self.game_play_screen['height'], self.game_play_screen['width']), dtype=np.uint8)\n",
    "        \n",
    "        # move_left, move_right, shoot, swap ball, no-op\n",
    "        self.action_space = Discrete(5)\n",
    "\n",
    "        # Capture game frames\n",
    "        self.cap = mss()\n",
    "        self.swap_button_location = {'x':475, 'y':730} # DO NOT SWITCH SWAP BUTTON TO RELATIVE POSITIONING\n",
    "        \n",
    "        #########################################\n",
    "        ###### VARIABLES NEEDING reset() ########\n",
    "        #########################################\n",
    "        self.is_board_cleared = False\n",
    "        self.is_terminated = False\n",
    "        self.is_truncated = False\n",
    "        self.previous_score = 0\n",
    "        self.elapsed_seconds = 0\n",
    "        self.remaining_balls_count = 100\n",
    "        self.score = 0\n",
    "        self.entire_screen_ss = [] # has all the game elements in it, including ball_count, score, time_elapsed, get_observation() will reset this in reset()\n",
    "        self.entire_screen_raw = [] # entire_screen_ss[:,:,:3].astype(np.uint8), get_observation() will reset this in reset()\n",
    "        self.entire_screen_gray = [] # uses entire_screen_raw, get_observation() will reset this in reset()\n",
    "        self.game_play_ss = [] # get_observation() will reset this in reset()\n",
    "        self.observation = [] # get_observation() will reset this in reset()\n",
    "        #########################################\n",
    "        \n",
    "    # Function to move the mouse left\n",
    "    def move_left(self):\n",
    "        current_x, current_y = pyautogui.position()\n",
    "        new_x = max(self.wall_borders['left'], current_x - self.steps)\n",
    "        pyautogui.moveTo(new_x, self.shooting_coordinates['y'])\n",
    "    \n",
    "    # Function to move the mouse right\n",
    "    def move_right(self):\n",
    "        current_x, current_y = pyautogui.position()\n",
    "        new_x = min(self.wall_borders['right'], current_x + self.steps)\n",
    "        pyautogui.moveTo(new_x, self.shooting_coordinates['y'])\n",
    "    \n",
    "    # Function to perform a click (shoot)\n",
    "    def shoot(self):\n",
    "        x, y = pyautogui.position()\n",
    "        pyautogui.click(x=x, y=y)\n",
    "\n",
    "    # Function to swap the shooting ball\n",
    "    def swap_ball(self):\n",
    "        x_before_jump, y_before_jump = pyautogui.position()\n",
    "        pyautogui.click(x=self.swap_button_location[\"x\"], y=self.swap_button_location[\"y\"], button='left')\n",
    "        pyautogui.moveTo(x=x_before_jump, y=y_before_jump)\n",
    "    \n",
    "    # Function to do nothing\n",
    "    def no_op(self):\n",
    "        pass  # Perform no action\n",
    "\n",
    "    def calculate_reward(self):\n",
    "        # Basic reward: change in score\n",
    "        score_reward = self.score - self.previous_score\n",
    "        approximate_number_of_bubbles_popped = score_reward // 100;\n",
    "        # Additional reward for popping more bubbles in one shot\n",
    "        # For instance, if more than 3 bubbles are popped, apply a multiplier\n",
    "        if approximate_number_of_bubbles_popped > 3:\n",
    "            efficiency_bonus = 1.25\n",
    "        else:\n",
    "            efficiency_bonus = 1.0\n",
    "        # Add to the total_reward\n",
    "        total_reward = score_reward * efficiency_bonus\n",
    "        self.previous_score = self.score\n",
    "\n",
    "        # the more time elapses the more penalty there is.\n",
    "        # (because each time it's called the time_elapse will be a higher value)\n",
    "        # chose this penalty formula to prioritize clearing the board faster.\n",
    "        # changable it if it doesn't work good. Maybe a fixed value will do fine?\n",
    "        time_penalty_constant = 100\n",
    "        total_reward = total_reward - self.get_elapsed_seconds() * time_penalty_constant\n",
    "\n",
    "        # cleared board bonus:\n",
    "        if self.is_board_cleared:\n",
    "            total_reward += 1000;\n",
    "            \n",
    "        # remaining balls bonus: more remains more bonus\n",
    "        remaining_balls_reward_constant = 100\n",
    "        if self.is_terminated and self.remaining_balls_count > 0:\n",
    "            total_reward += self.remaining_balls_count * 100\n",
    "        return total_reward\n",
    "\n",
    "    def set_remaining_balls_count(self):\n",
    "        section = self.entire_screen_ss[self.remaining_balls_location['top']:self.remaining_balls_location['top']+self.remaining_balls_location['height'], self.remaining_balls_location['left']:self.remaining_balls_location['left']+self.remaining_balls_location['width']] \n",
    "        text = pytesseract.image_to_string(section)\n",
    "        potential_number_string = self.extract_numbers(text)\n",
    "        if len(potential_number_string):\n",
    "            self.remaining_balls_count = int(potential_number_string)\n",
    "        return self.remaining_balls_count\n",
    "            \n",
    "    def step(self, action):\n",
    "        ### MAP ACTION TO A CORRESPONDING FUNCTION ###\n",
    "        action_map = {\n",
    "            0: self.move_left,\n",
    "            1: self.move_right,\n",
    "            2: self.shoot,\n",
    "            3: self.swap_ball,\n",
    "            4: self.no_op,\n",
    "        }\n",
    "        ##############################################\n",
    "        \n",
    "        #### PERFORM THE ACTION ####\n",
    "        ############################\n",
    "        if action in action_map:\n",
    "            action_map[action]() # Call the corresponding function\n",
    "        ############################\n",
    "\n",
    "        #### INFORMATION NEEDED TO CALCULATE REWARD ####\n",
    "        observation = self.get_observation()\n",
    "        ################################################\n",
    "        \n",
    "        #### REWARD IS CALCULATED AFTER OBSERVATION ####\n",
    "        ################################################\n",
    "        reward = self.calculate_reward()\n",
    "        info = {}\n",
    "        truncated = False # not decided how to use this yet.\n",
    "        return observation, reward, self.is_terminated, truncated, info\n",
    "        ################################################\n",
    "        \n",
    "    def reset(self, seed=None, options=None):\n",
    "        # super().reset(seed=seed)\n",
    "        # Clicking on allegedly \"New Game\" on the screen\n",
    "        pyautogui.click(x=self.start_new_game_coordinates['x'], y=self.start_new_game_coordinates['y'], button='left', clicks=1)\n",
    "        # Positioning cursor to the middle before game starts\n",
    "        pyautogui.moveTo(x=self.shooting_coordinates['x'], y=self.shooting_coordinates['y']) # move to the center to start the game at the lower center\n",
    "        info = {}\n",
    "        # Should reset the variables that changes while playing the round.\n",
    "        self.remaining_balls_count = 1000 # just a large number\n",
    "        self.previous_score = 0\n",
    "        self.elapsed_seconds = 0\n",
    "        self.is_board_cleared = False\n",
    "        self.is_terminated = False\n",
    "        self.is_truncated = False\n",
    "        self.score = 0\n",
    "        ################# UPDATES INSTANCE VARIABLES ##################\n",
    "        #### NOTE: ORDER MATTERS BECAUSE ONE DEPENDENT ON ANOTHER ##### \n",
    "        ############### AND ALL DEPENDENT ON OBSERVATION ##############\n",
    "        observation = self.get_observation()\n",
    "        return observation, info\n",
    "        \n",
    "    def render(self, area):\n",
    "        raw = np.array(self.cap.grab(area))[:,:,:3].astype(np.uint8)\n",
    "        plt.imshow(raw)\n",
    "         \n",
    "    def close(self):\n",
    "        cv2.destroyAllWindows()\n",
    "\n",
    "    ############# GRABS THE ENTIRE SCREEN INCLUDING: ###########\n",
    "    ## PLAYGROUND, SCORE, REMAINING_BALLS_COUNT, ELAPSED_TIME ##\n",
    "    def capture_entire_screen(self):\n",
    "        self.entire_screen_ss = np.array(self.cap.grab(self.entire_screen_location))\n",
    "        self.entire_screen_raw = self.entire_screen_ss[:,:,:3].astype(np.uint8)\n",
    "        self.entire_screen_gray = cv2.cvtColor(self.entire_screen_raw, cv2.COLOR_BGR2GRAY)\n",
    "    ###############################################################\n",
    "    \n",
    "    ################### GRABS ONLY THE PLAYGROUND #################\n",
    "    def get_gameplay_screen(self):\n",
    "        self.game_play_ss = self.entire_screen_ss[self.game_location['top']:self.game_location['top']+self.game_location['height'], self.game_location['left']:self.game_location['left']+self.game_location['width']]\n",
    "        game_play_raw = self.game_play_ss[:,:,:3].astype(np.uint8)\n",
    "        game_play_gray = cv2.cvtColor(game_play_raw, cv2.COLOR_BGR2GRAY)\n",
    "        game_play_resized = cv2.resize(game_play_gray, (self.game_play_screen['width'], self.game_play_screen['height']))\n",
    "        game_play_channel = np.reshape(game_play_resized, (1, self.game_play_screen['height'], self.game_play_screen['width']))\n",
    "        return self.game_play_ss, game_play_raw, game_play_gray, game_play_resized, game_play_channel\n",
    "    ###############################################################\n",
    "\n",
    "    ##### UPDATES VARIABLES THAT DETERMINE THE REWARD. ####\n",
    "    ###### MEANT TO BE USED AFTER get_observation() #######\n",
    "    ##########            OR                ###############\n",
    "    ############# self.capture_entire_screen() ############\n",
    "    def prepare_reward_metrics(self):\n",
    "        self.set_remaining_balls_count()\n",
    "        self.set_is_terminated()\n",
    "        self.set_is_board_cleared()\n",
    "\n",
    "    ### RETURNS THE OBSERVATION AND UPDATES NECESSARY REWARD METRICS ###\n",
    "    def get_observation(self):\n",
    "        ##### CAPTURE THE WHOLE INFORMATION WITH SCREENSHOT #####\n",
    "        self.capture_entire_screen()\n",
    "        ###### UPDATE VARIABLES THAT DETERMINE THE REWARD #######\n",
    "        self.prepare_reward_metrics()\n",
    "        ################ EXTRACT GAMEPLAY SCREEN ################\n",
    "        *_, game_play_channel = self.get_gameplay_screen()\n",
    "        #################### SET OBSERVATION ####################\n",
    "        self.observation = game_play_channel\n",
    "        return self.observation\n",
    "\n",
    "    def set_is_board_cleared(self):\n",
    "        if self.is_terminated and self.remaining_balls_count > 0:\n",
    "            self.is_board_cleared = True\n",
    "        return self.is_board_cleared\n",
    "        \n",
    "    def set_is_terminated(self):\n",
    "        terminated_strings = ['Play', 'Now', 'Play Now', 'New', 'Game', 'New Game']\n",
    "        section = self.entire_screen_raw[self.gameover_location['top']:self.gameover_location['top']+self.gameover_location['height'], self.gameover_location['left']:self.gameover_location['left']+self.gameover_location['width']]\n",
    "        text = pytesseract.image_to_string(section)[:4].strip()\n",
    "        if text in terminated_strings:\n",
    "            self.is_terminated = True\n",
    "            print('game over')\n",
    "        return self.is_terminated\n",
    "\n",
    "    def extract_numbers(self, input_string):\n",
    "        # This regex pattern matches any character that is NOT a digit\n",
    "        pattern = r'\\D'\n",
    "        # Replace all non-digit characters with an empty string\n",
    "        return re.sub(pattern, '', input_string)\n",
    "\n",
    "    def update_score(self):\n",
    "        section = self.entire_screen_ss[self.score_location['top']:self.score_location['top']+self.score_location['height'], self.score_location['left']:self.score_location['left']+self.score_location['width']]\n",
    "        text = self.extract_numbers(pytesseract.image_to_string(section)[:4])\n",
    "        if len(text) == 0:\n",
    "            self.score = 0\n",
    "        else:\n",
    "            self.score = int(text)\n",
    "        return self.score\n",
    "\n",
    "    def extract_numbers_and_colon(self, that_string):\n",
    "        # Regular expression pattern: matches digits and colons\n",
    "        pattern = r'[0-9:]'\n",
    "        # Find all matches in the string\n",
    "        matches = re.findall(pattern, that_string)\n",
    "        # Join matches into a single that_string\n",
    "        return ''.join(matches)\n",
    "\n",
    "    def convert_to_seconds(self, timer_str):\n",
    "        timer_str = self.extract_numbers_and_colon(timer_str)\n",
    "        timers = timer_str.split(\":\")\n",
    "        if len(timers) == 3:\n",
    "            hours, minutes, seconds = timers\n",
    "            minutes = int(minutes) + 60 * int(hours)\n",
    "        elif len(timers) == 2:\n",
    "            minutes, seconds = timers\n",
    "        total = int(minutes) * 60 + int(seconds)\n",
    "        return total\n",
    "    \n",
    "    def get_elapsed_seconds(self):\n",
    "        section = self.entire_screen_ss[self.time_location['top']:self.time_location['top']+self.time_location['height'], self.time_location['left']:self.time_location['left']+self.time_location['width']]\n",
    "        time = pytesseract.image_to_string(section)\n",
    "        total_in_seconds = 0\n",
    "        if not len(time):\n",
    "            return self.elapsed_seconds\n",
    "        else:\n",
    "            self.elapsed_seconds = self.convert_to_seconds(time)\n",
    "        return self.elapsed_seconds\n",
    "\n",
    "    # This is a dummy click just so that cursor is switched to the games' browser\n",
    "    def switch_to_games_browser(self):\n",
    "        pyautogui.click(x=self.start_new_game_coordinates['x'], y=self.start_new_game_coordinates['y'], button='left', clicks=1)\n",
    "        "
   ]
  },
  {
   "cell_type": "markdown",
   "metadata": {},
   "source": [
    "# 2.2 Test Environment"
   ]
  },
  {
   "cell_type": "code",
   "execution_count": 40,
   "metadata": {},
   "outputs": [],
   "source": [
    "env = WebGame()"
   ]
  },
  {
   "cell_type": "code",
   "execution_count": 41,
   "metadata": {},
   "outputs": [
    {
     "name": "stdout",
     "output_type": "stream",
     "text": [
      "balls count:  8308\n"
     ]
    }
   ],
   "source": [
    "#### This section is mostly used to understand if we captured \n",
    "#### the correct frame for each feature\n",
    "# env.capture_entire_screen()\n",
    "# done, done_cap = env.get_done()\n",
    "# print(\"balls count: \",env.get_elapsed_seconds())\n",
    "# is_term = env.update_is_terminated()\n",
    "# print(\"seconds: \",seconds)\n",
    "\n",
    "# plt.imshow(raw)\n",
    "# env.set_remaining_balls_count(entire_screen_raw, cv2.cvtColor(entire_screen_raw, cv2.COLOR_BGR2GRAY))\n",
    "# print(\"env.remaining_balls_counts: \",env.remaining_balls_count)"
   ]
  },
  {
   "cell_type": "code",
   "execution_count": null,
   "metadata": {},
   "outputs": [],
   "source": [
    "#####################################################################################################\n",
    "#### THIS IS FOR SANITY CHECKING THE SCREEN POSITIONS OF THE KEY METRICS LIKE SCORE, TIMER ETC.. ####\n",
    "#####################################################################################################\n",
    "# swap_button_location = env.swap_button_location # {'x':475, 'y':710}\n",
    "# entire_screen['width'] = 670\n",
    "# entire_screen['height'] = 584\n",
    "# entire_screen_location = {'top': 170, 'left': 20, 'width': entire_screen['width'], 'height': entire_screen['height']}\n",
    "# env.render(entire_screen_location)\n",
    "\n",
    "\n",
    "# game_location = env.game_location # {'top': 170, 'left': 184, 'width': env.game_play_screen['width'], 'height': env.game_play_screen['height']}\n",
    "# score_location = {'top': 232, 'left': 20, 'width': 118, 'height': 20}\n",
    "# gameover_location = env.gameover_location # {'top': 520, 'left': 260, 'width': 180, 'height': 40}\n",
    "# time_location = env.time_location # {'top': 200, 'left': 620, 'width': 70, 'height': 60}\n",
    "# remaining_balls_location = env.remaining_balls_location # {'top':710 ,'left':125, 'width':120 , 'height': 40}\n",
    "\n",
    "####################################\n",
    "#### REMDER ONE AREA AT A TIME. ####\n",
    "####################################\n",
    "# # swap button\n",
    "# pyautogui.click(x=swap_button_location['x'], y=swap_button_location['y'])\n",
    "# # game play area\n",
    "# game_location = {'top': 170, 'left': 40, 'width': 400, 'height': entire_screen['height']}\n",
    "# print(\"game_location\")\n",
    "# env.render(game_location)\n",
    "# # score\n",
    "# print(\"score_location\")\n",
    "# env.render(score_location)\n",
    "# # time elapsed\n",
    "# print(\"time_location\")\n",
    "# env.render(time_location)\n",
    "# # remaining balls\n",
    "# print(\"remaining_balls_location\")\n",
    "# env.render(remaining_balls_location)\n",
    "# # # Hit New Game\n",
    "# print(\"gameover_location\")\n",
    "# env.render(gameover_location)"
   ]
  },
  {
   "cell_type": "code",
   "execution_count": null,
   "metadata": {},
   "outputs": [],
   "source": [
    "#######################################################################################################################\n",
    "#### EXPERIMENTS CELL: This cell is used for observing how the cursor was moving according to these specifications ####\n",
    "#######################################################################################################################\n",
    "# print(\"starting the game\")\n",
    "# pyautogui.click(x=env.start_new_game_coordinates['x'], y=env.start_new_game_coordinates['y'], button='left', clicks=2, interval=0.25) # click on New Game, clicks twice because first click goes towards selecting the browser\n",
    "# sleep(1)\n",
    "\n",
    "# print(\"moving to shooting point\")\n",
    "# pyautogui.moveTo(x=env.shooting_coordinates['x'], y=env.shooting_coordinates['y'])\n",
    "# print(\"peww from center\")\n",
    "# env.click()\n",
    "# sleep(1)\n",
    "\n",
    "# print(\"moving right\")\n",
    "# for i in range(0, 10):\n",
    "#     sleep(1)\n",
    "#     env.move_right()\n",
    "# print(\"peww from right\")\n",
    "# env.click()\n",
    "\n",
    "# print(\"moving left\")\n",
    "# for i in range(0, 20):\n",
    "#     sleep(1)\n",
    "#     env.move_left()\n",
    "# print(\"peww from left\")\n",
    "# env.click()\n",
    "\n",
    "# print(\"swapping balls\")\n",
    "# sleep(1)\n",
    "# env.swap_ball()\n"
   ]
  },
  {
   "cell_type": "code",
   "execution_count": null,
   "metadata": {},
   "outputs": [],
   "source": [
    "# plt.imshow(cv2.cvtColor(obs[0], cv2.COLOR_GRAY2BGR))"
   ]
  },
  {
   "cell_type": "code",
   "execution_count": null,
   "metadata": {
    "tags": []
   },
   "outputs": [],
   "source": [
    "############################################################\n",
    "### This is just a dummy loop to see the game lifecycle. ###\n",
    "############################################################\n",
    "# env.switch_to_games_browser()\n",
    "# env.reset()\n",
    "# for episode in range(10):\n",
    "#     obs = env.reset()\n",
    "#     terminated = False\n",
    "#     truncated = False\n",
    "#     total_reward = 0\n",
    "#     while not (terminated or truncated):\n",
    "#         obs, reward, terminated, truncated, info =  env.step(env.action_space.sample())\n",
    "#         print(f'reward: {reward}')\n",
    "#         total_reward  += reward\n",
    "#     print('Total Reward for episode {} is {}'.format(episode, total_reward))\n",
    "    "
   ]
  },
  {
   "cell_type": "markdown",
   "metadata": {},
   "source": [
    "# 3. Train the Model   "
   ]
  },
  {
   "cell_type": "markdown",
   "metadata": {},
   "source": [
    " ## 3.1 Create Callback "
   ]
  },
  {
   "cell_type": "code",
   "execution_count": null,
   "metadata": {
    "tags": []
   },
   "outputs": [],
   "source": [
    "# Import os for file path management\n",
    "import os \n",
    "# Import Base Callback for saving models\n",
    "from stable_baselines3.common.callbacks import BaseCallback\n",
    "# Check Environment    \n",
    "from stable_baselines3.common import env_checker"
   ]
  },
  {
   "cell_type": "code",
   "execution_count": null,
   "metadata": {},
   "outputs": [],
   "source": [
    "env_checker.check_env(env)"
   ]
  },
  {
   "cell_type": "code",
   "execution_count": null,
   "metadata": {},
   "outputs": [],
   "source": [
    "class TrainAndLoggingCallback(BaseCallback):\n",
    "\n",
    "    def __init__(self, check_freq, save_path, verbose=1):\n",
    "        super(TrainAndLoggingCallback, self).__init__(verbose)\n",
    "        self.check_freq = check_freq\n",
    "        self.save_path = save_path\n",
    "\n",
    "    def _init_callback(self):\n",
    "        if self.save_path is not None:\n",
    "            os.makedirs(self.save_path, exist_ok=True)\n",
    "\n",
    "    def _on_step(self):\n",
    "        if self.n_calls % self.check_freq == 0:\n",
    "            model_path = os.path.join(self.save_path, 'best_model_{}'.format(self.n_calls))\n",
    "            self.model.save(model_path)\n",
    "\n",
    "        return True"
   ]
  },
  {
   "cell_type": "code",
   "execution_count": null,
   "metadata": {},
   "outputs": [],
   "source": [
    "CHECKPOINT_DIR = '/Volumes/Elements/Tuna/bubble-shooter/train/'\n",
    "LOG_DIR = '/Volumes/Elements/Tuna/bubble-shooter/logs/'"
   ]
  },
  {
   "cell_type": "code",
   "execution_count": null,
   "metadata": {},
   "outputs": [],
   "source": [
    "callback = TrainAndLoggingCallback(check_freq=1000, save_path=CHECKPOINT_DIR)"
   ]
  },
  {
   "cell_type": "markdown",
   "metadata": {},
   "source": [
    "## 3.2 Build DQN and Train"
   ]
  },
  {
   "cell_type": "code",
   "execution_count": null,
   "metadata": {},
   "outputs": [],
   "source": [
    "from stable_baselines3 import DQN\n",
    "from stable_baselines3.common.monitor import Monitor\n",
    "from stable_baselines3.common.vec_env import DummyVecEnv, VecFrameStack"
   ]
  },
  {
   "cell_type": "code",
   "execution_count": null,
   "metadata": {},
   "outputs": [],
   "source": [
    "env = WebGame()"
   ]
  },
  {
   "cell_type": "code",
   "execution_count": null,
   "metadata": {
    "tags": []
   },
   "outputs": [],
   "source": [
    "model = DQN('CnnPolicy', env, tensorboard_log=LOG_DIR, verbose=1, buffer_size=1200000, learning_starts=1000)"
   ]
  },
  {
   "cell_type": "code",
   "execution_count": null,
   "metadata": {
    "scrolled": true,
    "tags": []
   },
   "outputs": [],
   "source": [
    "model.learn(total_timesteps=100000, callback=callback)"
   ]
  },
  {
   "cell_type": "code",
   "execution_count": null,
   "metadata": {},
   "outputs": [],
   "source": [
    "model.load('train_first/best_mode l_50000') "
   ]
  },
  {
   "cell_type": "markdown",
   "metadata": {},
   "source": [
    "# 4. Test out Model"
   ]
  },
  {
   "cell_type": "code",
   "execution_count": null,
   "metadata": {
    "tags": []
   },
   "outputs": [],
   "source": [
    "for episode in range(5): \n",
    "    obs = env.reset()\n",
    "    done = False\n",
    "    total_reward = 0\n",
    "    while not done: \n",
    "        action, _ = model.predict(obs)\n",
    "        obs, reward, done, info = env.step(int(action))\n",
    "        time.sleep(0.01)\n",
    "        total_reward += reward\n",
    "    print('Total Reward for episode {} is {}'.format(episode, total_reward))\n",
    "    time.sleep(2)"
   ]
  }
 ],
 "metadata": {
  "kernelspec": {
   "display_name": "Python 3 (ipykernel)",
   "language": "python",
   "name": "python3"
  },
  "language_info": {
   "codemirror_mode": {
    "name": "ipython",
    "version": 3
   },
   "file_extension": ".py",
   "mimetype": "text/x-python",
   "name": "python",
   "nbconvert_exporter": "python",
   "pygments_lexer": "ipython3",
   "version": "3.11.6"
  }
 },
 "nbformat": 4,
 "nbformat_minor": 4
}
